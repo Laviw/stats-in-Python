{
  "nbformat": 4,
  "nbformat_minor": 0,
  "metadata": {
    "colab": {
      "name": "stats.ipynb",
      "provenance": [],
      "collapsed_sections": [
        "cOWz1h6QIarL"
      ]
    },
    "kernelspec": {
      "name": "python3",
      "display_name": "Python 3"
    },
    "language_info": {
      "name": "python"
    }
  },
  "cells": [
    {
      "cell_type": "code",
      "execution_count": 134,
      "metadata": {
        "id": "qTqL-awGH-dW"
      },
      "outputs": [],
      "source": [
        "import numpy as np\n",
        "from scipy import stats\n",
        "import seaborn as sns\n",
        "import scipy\n",
        "import matplotlib.pyplot as plt"
      ]
    },
    {
      "cell_type": "markdown",
      "source": [
        "# Generating data and estimate mu and var"
      ],
      "metadata": {
        "id": "9mAX-3aRIQCv"
      }
    },
    {
      "cell_type": "markdown",
      "source": [
        "## plot functions"
      ],
      "metadata": {
        "id": "vrmJCjzJJWU6"
      }
    },
    {
      "cell_type": "code",
      "source": [
        "def plot_random_variables(data, title, kde=False, bins=10, est_data=None, stat='count'):\n",
        "    fig, ax = plt.subplots()\n",
        "    sns.histplot(data,\n",
        "                 kde=kde,\n",
        "                 bins=bins,\n",
        "                 stat=stat,\n",
        "                 color=\"skyblue\",\n",
        "                 ax=ax)\n",
        "\n",
        "    if est_data is not None:\n",
        "        ax.scatter(x=est_data[0], y=est_data[1], c='r')\n",
        "    ax.set(xlabel=title, ylabel='Frequency')\n",
        "    plt.show()"
      ],
      "metadata": {
        "id": "FkUqPhC9JnrD"
      },
      "execution_count": 209,
      "outputs": []
    },
    {
      "cell_type": "code",
      "source": [
        "sample_n = 10000"
      ],
      "metadata": {
        "id": "wst20oSMKqPy"
      },
      "execution_count": 118,
      "outputs": []
    },
    {
      "cell_type": "markdown",
      "source": [
        "## estimator for discrete variable"
      ],
      "metadata": {
        "id": "m4ucvK_4ZWUC"
      }
    },
    {
      "cell_type": "code",
      "source": [
        "def loss(params, data, dist):\n",
        "    loss = 0\n",
        "    for i in range(len(data)):\n",
        "        if dist not in ['bernoulli', 'binomial', 'poisson']:\n",
        "            print('invalid dist')\n",
        "            return 0\n",
        "        if dist == 'poisson':\n",
        "            loglikelihood = stats.poisson.logpmf(data[i], params[0])\n",
        "            loss -= loglikelihood\n",
        "\n",
        "        if dist == 'bernoulli':\n",
        "            loglikelihood = stats.bernoulli.logpmf(data[i], params[0])\n",
        "            loss -= loglikelihood\n",
        "\n",
        "        if dist == 'binomial':\n",
        "            # k, n, p\n",
        "            loglikelihood = stats.binom.logpmf(data[i], params[0], params[1])\n",
        "            loss -= loglikelihood\n",
        "\n",
        "    return loss\n",
        "        "
      ],
      "metadata": {
        "id": "Y8Qfbu00ZgQg"
      },
      "execution_count": 106,
      "outputs": []
    },
    {
      "cell_type": "markdown",
      "source": [
        "## Bernoulli Random Variable"
      ],
      "metadata": {
        "id": "JgMA0MBCI4J9"
      }
    },
    {
      "cell_type": "code",
      "source": [
        "from scipy.stats import bernoulli\n",
        "bern_data = bernoulli.rvs(size=sample_n, p=0.6)"
      ],
      "metadata": {
        "id": "2KvD72h0ILgL"
      },
      "execution_count": 439,
      "outputs": []
    },
    {
      "cell_type": "code",
      "source": [
        "plot_random_variables(bern_data, 'Bernoulli Distribution')"
      ],
      "metadata": {
        "colab": {
          "base_uri": "https://localhost:8080/",
          "height": 279
        },
        "id": "VWVkfsHWKBD4",
        "outputId": "e666c2f1-0f7a-4c79-946d-1062b066cdf8"
      },
      "execution_count": 210,
      "outputs": [
        {
          "output_type": "display_data",
          "data": {
            "text/plain": [
              "<Figure size 432x288 with 1 Axes>"
            ],
            "image/png": "[encoded data removed]"
          },
          "metadata": {
            "needs_background": "light"
          }
        }
      ]
    },
    {
      "cell_type": "code",
      "source": [
        "params = [1]\n",
        "dist = 'bernoulli'\n",
        "bern_est = scipy.optimize.fmin(loss, params, args=(bern_data, dist))"
      ],
      "metadata": {
        "colab": {
          "base_uri": "https://localhost:8080/"
        },
        "id": "4_iegc0sfsWT",
        "outputId": "0e41e163-0eee-42c2-8f6c-c4559af9d1e6"
      },
      "execution_count": 146,
      "outputs": [
        {
          "output_type": "stream",
          "name": "stdout",
          "text": [
            "Optimization terminated successfully.\n",
            "         Current function value: 6747.166916\n",
            "         Iterations: 16\n",
            "         Function evaluations: 32\n"
          ]
        }
      ]
    },
    {
      "cell_type": "code",
      "source": [
        "bern_p_est = bern_est[0]\n",
        "bern_p_est"
      ],
      "metadata": {
        "colab": {
          "base_uri": "https://localhost:8080/"
        },
        "id": "DfmfX7DSf26O",
        "outputId": "b622f331-abbc-4f4d-8868-4fad8efdf802"
      },
      "execution_count": 147,
      "outputs": [
        {
          "output_type": "execute_result",
          "data": {
            "text/plain": [
              "0.5957031249999997"
            ]
          },
          "metadata": {},
          "execution_count": 147
        }
      ]
    },
    {
      "cell_type": "code",
      "source": [
        "bern_x = np.array([i for i in range(min(bern_data), max(bern_data) + 1, 1)])\n",
        "bern_y = stats.bernoulli.pmf(bern_x, bern_p_est)\n",
        "plot_random_variables(bern_data, 'Bernoulli Distribution', \n",
        "                      est_data=[bern_x, bern_y], stat='probability')"
      ],
      "metadata": {
        "colab": {
          "base_uri": "https://localhost:8080/",
          "height": 279
        },
        "id": "532u-jfilkXt",
        "outputId": "d66d8f52-6358-4602-a0ae-e3812bdaf44d"
      },
      "execution_count": 225,
      "outputs": [
        {
          "output_type": "display_data",
          "data": {
            "text/plain": [
              "<Figure size 432x288 with 1 Axes>"
            ],
            "image/png": "[encoded data removed]"
          },
          "metadata": {
            "needs_background": "light"
          }
        }
      ]
    },
    {
      "cell_type": "code",
      "source": [
        "bernoulli.interval(alpha=0.95, p=bern_p_est)"
      ],
      "metadata": {
        "colab": {
          "base_uri": "https://localhost:8080/"
        },
        "id": "ulMIeB-05HDb",
        "outputId": "33e2c7ec-99b0-4901-af96-85e5759687a6"
      },
      "execution_count": 302,
      "outputs": [
        {
          "output_type": "execute_result",
          "data": {
            "text/plain": [
              "(0.0, 1.0)"
            ]
          },
          "metadata": {},
          "execution_count": 302
        }
      ]
    },
    {
      "cell_type": "markdown",
      "source": [
        "## Binonmial Random Variable"
      ],
      "metadata": {
        "id": "TYDSA7saI8oI"
      }
    },
    {
      "cell_type": "code",
      "source": [
        "from scipy.stats import binom\n",
        "bin_data = binom.rvs(n=10, p=0.6, size=sample_n)"
      ],
      "metadata": {
        "id": "CZj4hjqwKAs3"
      },
      "execution_count": 123,
      "outputs": []
    },
    {
      "cell_type": "code",
      "source": [
        "plot_random_variables(bin_data, 'Binomial Distribution')"
      ],
      "metadata": {
        "colab": {
          "base_uri": "https://localhost:8080/",
          "height": 335
        },
        "id": "b0Qc8rz1L-Ms",
        "outputId": "88d3f926-28d2-4130-ef8f-3c6feffed0b2"
      },
      "execution_count": 124,
      "outputs": [
        {
          "output_type": "stream",
          "name": "stderr",
          "text": [
            "/usr/local/lib/python3.7/dist-packages/seaborn/distributions.py:2619: FutureWarning: `distplot` is a deprecated function and will be removed in a future version. Please adapt your code to use either `displot` (a figure-level function with similar flexibility) or `histplot` (an axes-level function for histograms).\n",
            "  warnings.warn(msg, FutureWarning)\n"
          ]
        },
        {
          "output_type": "display_data",
          "data": {
            "text/plain": [
              "<Figure size 432x288 with 1 Axes>"
            ],
            "image/png": "[encoded data removed]"
          },
          "metadata": {
            "needs_background": "light"
          }
        }
      ]
    },
    {
      "cell_type": "code",
      "source": [
        "params = [15, 0.8]\n",
        "dist = 'binomial'\n",
        "bin_est = scipy.optimize.fmin(loss, params, args=(bin_data, dist))"
      ],
      "metadata": {
        "colab": {
          "base_uri": "https://localhost:8080/"
        },
        "id": "LQuWJQhzhZPC",
        "outputId": "484797c5-5686-43b9-bb63-6e4a0752f190"
      },
      "execution_count": 125,
      "outputs": [
        {
          "output_type": "stream",
          "name": "stdout",
          "text": [
            "Optimization terminated successfully.\n",
            "         Current function value: 18506.950420\n",
            "         Iterations: 77\n",
            "         Function evaluations: 143\n"
          ]
        }
      ]
    },
    {
      "cell_type": "code",
      "source": [
        "bin_n_est = bin_est[0]\n",
        "bin_p_est = bin_est[1]\n",
        "bin_n_est, bin_p_est"
      ],
      "metadata": {
        "colab": {
          "base_uri": "https://localhost:8080/"
        },
        "id": "Og1FTlAOh6GX",
        "outputId": "5411a992-9845-4bac-b5d4-b388bd7d7ba8"
      },
      "execution_count": 126,
      "outputs": [
        {
          "output_type": "execute_result",
          "data": {
            "text/plain": [
              "(10.000011563877518, 0.5960705128330127)"
            ]
          },
          "metadata": {},
          "execution_count": 126
        }
      ]
    },
    {
      "cell_type": "code",
      "source": [
        "bin_x = np.array([i for i in range(min(bin_data), max(bin_data) + 1, 1)])\n",
        "bin_y = stats.binom.pmf(bin_x, bin_n_est, bin_p_est)\n",
        "plot_random_variables(bin_data, 'Binomial Distribution', \n",
        "                      est_data=[bin_x, bin_y], stat='probability',\n",
        "                      bins=max(bin_data) - min(bin_data))"
      ],
      "metadata": {
        "colab": {
          "base_uri": "https://localhost:8080/",
          "height": 279
        },
        "id": "rgW08aPvuxCU",
        "outputId": "f448178b-ad52-49f1-cd10-6f57cbcf293f"
      },
      "execution_count": 231,
      "outputs": [
        {
          "output_type": "display_data",
          "data": {
            "text/plain": [
              "<Figure size 432x288 with 1 Axes>"
            ],
            "image/png": "[encoded data removed]"
          },
          "metadata": {
            "needs_background": "light"
          }
        }
      ]
    },
    {
      "cell_type": "code",
      "source": [
        "binom.interval(alpha=0.95, n=int(bin_n_est), p=bin_p_est)"
      ],
      "metadata": {
        "colab": {
          "base_uri": "https://localhost:8080/"
        },
        "id": "riS-lmBd5hdL",
        "outputId": "34841c9a-eb8e-4f0b-ea19-c96cd0aaec9d"
      },
      "execution_count": 304,
      "outputs": [
        {
          "output_type": "execute_result",
          "data": {
            "text/plain": [
              "(3.0, 9.0)"
            ]
          },
          "metadata": {},
          "execution_count": 304
        }
      ]
    },
    {
      "cell_type": "markdown",
      "source": [
        "## Poisson Random Variable"
      ],
      "metadata": {
        "id": "abRo87qjJAsY"
      }
    },
    {
      "cell_type": "code",
      "source": [
        "from scipy.stats import poisson\n",
        "pois_data = poisson.rvs(mu=3, size=sample_n)"
      ],
      "metadata": {
        "id": "9QF_0W7oMg0H"
      },
      "execution_count": 127,
      "outputs": []
    },
    {
      "cell_type": "code",
      "source": [
        "plot_random_variables(pois_data, 'Poisson Distribution')"
      ],
      "metadata": {
        "colab": {
          "base_uri": "https://localhost:8080/",
          "height": 335
        },
        "id": "12ohZNcPMmtj",
        "outputId": "b651f36b-99b4-407a-fffe-d7684df286a9"
      },
      "execution_count": 128,
      "outputs": [
        {
          "output_type": "stream",
          "name": "stderr",
          "text": [
            "/usr/local/lib/python3.7/dist-packages/seaborn/distributions.py:2619: FutureWarning: `distplot` is a deprecated function and will be removed in a future version. Please adapt your code to use either `displot` (a figure-level function with similar flexibility) or `histplot` (an axes-level function for histograms).\n",
            "  warnings.warn(msg, FutureWarning)\n"
          ]
        },
        {
          "output_type": "display_data",
          "data": {
            "text/plain": [
              "<Figure size 432x288 with 1 Axes>"
            ],
            "image/png": "[encoded data removed]"
          },
          "metadata": {
            "needs_background": "light"
          }
        }
      ]
    },
    {
      "cell_type": "code",
      "source": [
        "params = [8]\n",
        "dist = 'poisson'\n",
        "pois_est = scipy.optimize.fmin(loss, params, args=(pois_data, dist))"
      ],
      "metadata": {
        "colab": {
          "base_uri": "https://localhost:8080/"
        },
        "id": "ADF-wj-hcod0",
        "outputId": "97079b45-f84b-4f42-c56a-0c5504dc800c"
      },
      "execution_count": 129,
      "outputs": [
        {
          "output_type": "stream",
          "name": "stdout",
          "text": [
            "Optimization terminated successfully.\n",
            "         Current function value: 19353.805283\n",
            "         Iterations: 19\n",
            "         Function evaluations: 38\n"
          ]
        }
      ]
    },
    {
      "cell_type": "code",
      "source": [
        "pois_mu_est = pois_est[0]\n",
        "pois_mu_est"
      ],
      "metadata": {
        "colab": {
          "base_uri": "https://localhost:8080/"
        },
        "id": "_-Z6vusJe1Z7",
        "outputId": "559d6f25-9f04-4f4e-8208-b37f5a1d9848"
      },
      "execution_count": 130,
      "outputs": [
        {
          "output_type": "execute_result",
          "data": {
            "text/plain": [
              "2.9957031249999955"
            ]
          },
          "metadata": {},
          "execution_count": 130
        }
      ]
    },
    {
      "cell_type": "code",
      "source": [
        "pois_x = np.array([i for i in range(min(pois_data), max(pois_data) + 1, 1)])\n",
        "pois_y = stats.poisson.pmf(pois_x, pois_mu_est)\n",
        "plot_random_variables(pois_data, 'Poisson Distribution', \n",
        "                      est_data=[pois_x, pois_y], stat='probability', \n",
        "                      bins=max(pois_data) - min(pois_data))"
      ],
      "metadata": {
        "colab": {
          "base_uri": "https://localhost:8080/",
          "height": 279
        },
        "id": "BNxafUWJwIOG",
        "outputId": "ec72e214-dfbf-4eb3-f154-c08228bcc798"
      },
      "execution_count": 230,
      "outputs": [
        {
          "output_type": "display_data",
          "data": {
            "text/plain": [
              "<Figure size 432x288 with 1 Axes>"
            ],
            "image/png": "[encoded data removed]"
          },
          "metadata": {
            "needs_background": "light"
          }
        }
      ]
    },
    {
      "cell_type": "code",
      "source": [
        "poisson.interval(alpha=0.95, mu=pois_mu_est)"
      ],
      "metadata": {
        "colab": {
          "base_uri": "https://localhost:8080/"
        },
        "id": "9nOMYn5c51yV",
        "outputId": "017ca361-9fbf-4703-985a-5ae0cecbacef"
      },
      "execution_count": 305,
      "outputs": [
        {
          "output_type": "execute_result",
          "data": {
            "text/plain": [
              "(0.0, 7.0)"
            ]
          },
          "metadata": {},
          "execution_count": 305
        }
      ]
    },
    {
      "cell_type": "markdown",
      "source": [
        "## Uniform Random Variable"
      ],
      "metadata": {
        "id": "3xE1_OsxJE3c"
      }
    },
    {
      "cell_type": "markdown",
      "source": [
        "The uniform function generates a uniform continuous variable between the specified interval via its loc and scale arguments. This distribution is constant between loc and loc + scale."
      ],
      "metadata": {
        "id": "WVua0abFNsgN"
      }
    },
    {
      "cell_type": "code",
      "source": [
        "from scipy.stats import uniform\n",
        "b = 30\n",
        "a = 10\n",
        "uni_data = uniform.rvs(size=sample_n, loc=a, scale=b-a)"
      ],
      "metadata": {
        "id": "Gq06apMKNurO"
      },
      "execution_count": 238,
      "outputs": []
    },
    {
      "cell_type": "code",
      "source": [
        "uni_range = int(max(uni_data) - min(uni_data))"
      ],
      "metadata": {
        "id": "XZuLGQql0_aH"
      },
      "execution_count": 261,
      "outputs": []
    },
    {
      "cell_type": "code",
      "source": [
        "plot_random_variables(uni_data, 'Uniform Distribution', kde=True, bins=100)"
      ],
      "metadata": {
        "colab": {
          "base_uri": "https://localhost:8080/",
          "height": 279
        },
        "id": "w9JbevLqONzO",
        "outputId": "8ec9f419-c530-4983-e4c8-18ada9d918b1"
      },
      "execution_count": 262,
      "outputs": [
        {
          "output_type": "display_data",
          "data": {
            "text/plain": [
              "<Figure size 432x288 with 1 Axes>"
            ],
            "image/png": "[encoded data removed]"
          },
          "metadata": {
            "needs_background": "light"
          }
        }
      ]
    },
    {
      "cell_type": "code",
      "source": [
        "uni_loc_est, uni_scale_est = uniform.fit(uni_data)"
      ],
      "metadata": {
        "id": "RBY7XEUuxEsJ"
      },
      "execution_count": 307,
      "outputs": []
    },
    {
      "cell_type": "code",
      "source": [
        "uni_x = [i for i in range(0, int(uni_loc_est + uni_scale_est + 10))]\n",
        "uni_y = uniform.pdf(uni_x, loc=uni_loc_est, scale=uni_scale_est)\n",
        "plot_random_variables(uni_data, 'Uniform Distribution', \n",
        "                      est_data=[uni_x, uni_y], stat='probability', \n",
        "                      bins=int(max(uni_data) - min(uni_data)),\n",
        "                      kde=True)"
      ],
      "metadata": {
        "colab": {
          "base_uri": "https://localhost:8080/",
          "height": 283
        },
        "id": "FIZG6MebxVFX",
        "outputId": "d1974fae-8fe6-44d9-a39f-c3365c98a89e"
      },
      "execution_count": 308,
      "outputs": [
        {
          "output_type": "display_data",
          "data": {
            "text/plain": [
              "<Figure size 432x288 with 1 Axes>"
            ],
            "image/png": "[encoded data removed]"
          },
          "metadata": {
            "needs_background": "light"
          }
        }
      ]
    },
    {
      "cell_type": "code",
      "source": [
        "uniform.interval(alpha=0.95, loc=uni_loc_est, \n",
        "                 scale=uni_scale_est)"
      ],
      "metadata": {
        "colab": {
          "base_uri": "https://localhost:8080/"
        },
        "id": "v9BgHti86Cwh",
        "outputId": "02ded3b6-aca4-4eb1-bfd5-2c3c58349de9"
      },
      "execution_count": 309,
      "outputs": [
        {
          "output_type": "execute_result",
          "data": {
            "text/plain": [
              "(10.500016131938208, 29.498839983707505)"
            ]
          },
          "metadata": {},
          "execution_count": 309
        }
      ]
    },
    {
      "cell_type": "markdown",
      "source": [
        "## Exponential Random Variable"
      ],
      "metadata": {
        "id": "FwveGcotJJJY"
      }
    },
    {
      "cell_type": "code",
      "source": [
        "from scipy.stats import expon\n",
        "exp_data = expon.rvs(scale=1, loc=0, size=1000)"
      ],
      "metadata": {
        "id": "aVnKzuo4PKzI"
      },
      "execution_count": 33,
      "outputs": []
    },
    {
      "cell_type": "code",
      "source": [
        "exp_range = int(max(exp_data) - min(exp_data))"
      ],
      "metadata": {
        "id": "HgljpGVf0UNw"
      },
      "execution_count": 254,
      "outputs": []
    },
    {
      "cell_type": "code",
      "source": [
        "plot_random_variables(exp_data, 'Exponential Distribution', \n",
        "                      kde=True, bins=exp_range * 5)"
      ],
      "metadata": {
        "colab": {
          "base_uri": "https://localhost:8080/",
          "height": 279
        },
        "id": "jNJQnSc4PSVH",
        "outputId": "4b2ed7c0-373d-45c4-f1a5-8f2031b67e69"
      },
      "execution_count": 280,
      "outputs": [
        {
          "output_type": "display_data",
          "data": {
            "text/plain": [
              "<Figure size 432x288 with 1 Axes>"
            ],
            "image/png": "[encoded data removed]"
          },
          "metadata": {
            "needs_background": "light"
          }
        }
      ]
    },
    {
      "cell_type": "code",
      "source": [
        "exp_loc_est, exp_scale_est = expon.fit(exp_data)\n",
        "exp_loc_est, exp_scale_est"
      ],
      "metadata": {
        "colab": {
          "base_uri": "https://localhost:8080/"
        },
        "id": "fpav1MtdypII",
        "outputId": "aece5fd7-e87b-4220-9011-8dfa873c4c6c"
      },
      "execution_count": 310,
      "outputs": [
        {
          "output_type": "execute_result",
          "data": {
            "text/plain": [
              "(0.0010059884561884659, 1.0016740161076645)"
            ]
          },
          "metadata": {},
          "execution_count": 310
        }
      ]
    },
    {
      "cell_type": "code",
      "source": [
        "exp_x = [i/5 for i in range(exp_range * 5)]\n",
        "exp_y = expon.pdf(exp_x, loc=exp_loc_est, scale=exp_scale_est)\n",
        "plot_random_variables(exp_data, 'Exponential Distribution', \n",
        "                      est_data=[exp_x, exp_y], stat='probability', \n",
        "                      bins=exp_range, kde=True)"
      ],
      "metadata": {
        "colab": {
          "base_uri": "https://localhost:8080/",
          "height": 279
        },
        "id": "kj5869bj0OmD",
        "outputId": "9499d59d-e428-4d7e-9e53-a956492c3ee0"
      },
      "execution_count": 311,
      "outputs": [
        {
          "output_type": "display_data",
          "data": {
            "text/plain": [
              "<Figure size 432x288 with 1 Axes>"
            ],
            "image/png": "[encoded data removed]"
          },
          "metadata": {
            "needs_background": "light"
          }
        }
      ]
    },
    {
      "cell_type": "code",
      "source": [
        "expon.interval(alpha=0.95, loc=exp_loc_est, scale=exp_scale_est)"
      ],
      "metadata": {
        "colab": {
          "base_uri": "https://localhost:8080/"
        },
        "id": "7_8SGBwg6oV8",
        "outputId": "01e20aaa-8fc4-4bca-d4b5-f5f27c243397"
      },
      "execution_count": 312,
      "outputs": [
        {
          "output_type": "execute_result",
          "data": {
            "text/plain": [
              "(0.02636617885885482, 3.696060686195543)"
            ]
          },
          "metadata": {},
          "execution_count": 312
        }
      ]
    },
    {
      "cell_type": "markdown",
      "source": [
        "## Normal Random Variable"
      ],
      "metadata": {
        "id": "_-ETO7SaJOPw"
      }
    },
    {
      "cell_type": "markdown",
      "source": [
        "* The loc argument corresponds to the mean of the distribution. scale corresponds to standard deviation\n",
        "* If you want to maintain reproducibility, include a random_state argument assigned to a number."
      ],
      "metadata": {
        "id": "8Qzg3OU3Pgyo"
      }
    },
    {
      "cell_type": "code",
      "source": [
        "from scipy.stats import norm\n",
        "\n",
        "# generate random numbers from N(0,1)\n",
        "normal_data = norm.rvs(size=10000, loc=0, scale=1)"
      ],
      "metadata": {
        "id": "jifeK1OZPYpg"
      },
      "execution_count": 36,
      "outputs": []
    },
    {
      "cell_type": "code",
      "source": [
        "norm_range = int(max(normal_data) - min(normal_data))\n",
        "norm_range"
      ],
      "metadata": {
        "colab": {
          "base_uri": "https://localhost:8080/"
        },
        "id": "NGzyLAfS2tQl",
        "outputId": "82946e18-08a2-4c1c-989e-b4d1c1996f0b"
      },
      "execution_count": 269,
      "outputs": [
        {
          "output_type": "execute_result",
          "data": {
            "text/plain": [
              "7"
            ]
          },
          "metadata": {},
          "execution_count": 269
        }
      ]
    },
    {
      "cell_type": "code",
      "source": [
        "plot_random_variables(normal_data, 'Normal Distribution', kde=True, bins=norm_range * 10)"
      ],
      "metadata": {
        "colab": {
          "base_uri": "https://localhost:8080/",
          "height": 279
        },
        "id": "8j8F0vFOPwGx",
        "outputId": "677a2f73-66fc-45a4-e6ad-819409357d0c"
      },
      "execution_count": 271,
      "outputs": [
        {
          "output_type": "display_data",
          "data": {
            "text/plain": [
              "<Figure size 432x288 with 1 Axes>"
            ],
            "image/png": "[encoded data removed]"
          },
          "metadata": {
            "needs_background": "light"
          }
        }
      ]
    },
    {
      "cell_type": "code",
      "source": [
        "seed = np.random.seed(32)\n",
        "normal_data_seed = norm.rvs(size=10000, loc=0, scale=1, random_state=seed)\n",
        "norm_seed_range = int(max(normal_data_seed) - min(normal_data_seed))\n",
        "norm_seed_range"
      ],
      "metadata": {
        "colab": {
          "base_uri": "https://localhost:8080/"
        },
        "id": "JbUd1jC1QOcR",
        "outputId": "f3346e60-d030-4859-8308-737d64bf661b"
      },
      "execution_count": 273,
      "outputs": [
        {
          "output_type": "execute_result",
          "data": {
            "text/plain": [
              "7"
            ]
          },
          "metadata": {},
          "execution_count": 273
        }
      ]
    },
    {
      "cell_type": "code",
      "source": [
        "plot_random_variables(normal_data_seed, 'Normal Distribution with seed 20', kde=True, \n",
        "                      bins=norm_seed_range * 10)"
      ],
      "metadata": {
        "colab": {
          "base_uri": "https://localhost:8080/",
          "height": 279
        },
        "id": "jzkHeAxnQgBA",
        "outputId": "506acbcf-2916-4064-ad17-d2c5e025597e"
      },
      "execution_count": 274,
      "outputs": [
        {
          "output_type": "display_data",
          "data": {
            "text/plain": [
              "<Figure size 432x288 with 1 Axes>"
            ],
            "image/png": "[encoded data removed]"
          },
          "metadata": {
            "needs_background": "light"
          }
        }
      ]
    },
    {
      "cell_type": "code",
      "source": [
        "norm_loc_est, norm_scale_est = norm.fit(normal_data)\n",
        "norm_loc_est, norm_scale_est"
      ],
      "metadata": {
        "colab": {
          "base_uri": "https://localhost:8080/"
        },
        "id": "zqz9xPV3Uk-8",
        "outputId": "58edcc06-ff3a-4341-ff18-cd0eef69a971"
      },
      "execution_count": 313,
      "outputs": [
        {
          "output_type": "execute_result",
          "data": {
            "text/plain": [
              "(-0.003048231785422756, 0.9881582374912226)"
            ]
          },
          "metadata": {},
          "execution_count": 313
        }
      ]
    },
    {
      "cell_type": "code",
      "source": [
        "norm_x = [i/6 for i in range(- norm_range * 3, norm_range * 3)]\n",
        "norm_y = norm.pdf(norm_x, loc=norm_loc_est, scale=norm_scale_est)\n",
        "plot_random_variables(normal_data, 'Normal Distribution', \n",
        "                      est_data=[norm_x, norm_y], stat='probability', \n",
        "                      bins=norm_range, kde=True)"
      ],
      "metadata": {
        "colab": {
          "base_uri": "https://localhost:8080/",
          "height": 279
        },
        "id": "8tT9UkbJ3FuL",
        "outputId": "1b66cfa1-caec-48da-a44b-560d35c71eae"
      },
      "execution_count": 314,
      "outputs": [
        {
          "output_type": "display_data",
          "data": {
            "text/plain": [
              "<Figure size 432x288 with 1 Axes>"
            ],
            "image/png": "[encoded data removed]"
          },
          "metadata": {
            "needs_background": "light"
          }
        }
      ]
    },
    {
      "cell_type": "code",
      "source": [
        "norm.interval(alpha=0.95, loc=norm_loc_est, \n",
        "              scale=norm_scale_est)"
      ],
      "metadata": {
        "colab": {
          "base_uri": "https://localhost:8080/"
        },
        "id": "l37EdzJG68TZ",
        "outputId": "0067e493-997a-440f-fcb3-e8bcefd65dc1"
      },
      "execution_count": 315,
      "outputs": [
        {
          "output_type": "execute_result",
          "data": {
            "text/plain": [
              "(-1.9398027882947964, 1.9337063247239508)"
            ]
          },
          "metadata": {},
          "execution_count": 315
        }
      ]
    },
    {
      "cell_type": "markdown",
      "source": [
        "## Gamma Random Variable"
      ],
      "metadata": {
        "id": "jYaf7_lSJSQU"
      }
    },
    {
      "cell_type": "markdown",
      "source": [
        "* When $a$(alpha) is an integer, gamma reduces to the Erlang distribution, and when $a=1$ to the exponential distribution. \n",
        "* To shift distribution use the loc argument, to scale use scale argument(scale = 1/beta),"
      ],
      "metadata": {
        "id": "gVyUy77RRWuE"
      }
    },
    {
      "cell_type": "code",
      "source": [
        "from scipy.stats import gamma\n",
        "gamma_data = gamma.rvs(a=5, scale=2, loc=0, size=10000)\n",
        "gamma_range = int(max(gamma_data) - min(gamma_data))\n",
        "gamma_range"
      ],
      "metadata": {
        "colab": {
          "base_uri": "https://localhost:8080/"
        },
        "id": "WoZmBk5CQ1tz",
        "outputId": "ea5e6ff3-7529-48c7-c349-9aee44a08f26"
      },
      "execution_count": 290,
      "outputs": [
        {
          "output_type": "execute_result",
          "data": {
            "text/plain": [
              "33"
            ]
          },
          "metadata": {},
          "execution_count": 290
        }
      ]
    },
    {
      "cell_type": "code",
      "source": [
        "plot_random_variables(gamma_data, 'Gamma Distribution', \n",
        "                      kde=True, bins=gamma_range)"
      ],
      "metadata": {
        "colab": {
          "base_uri": "https://localhost:8080/",
          "height": 279
        },
        "id": "UczDHk6kRg_D",
        "outputId": "1c807052-96c4-460d-b3ce-f60be3ace673"
      },
      "execution_count": 291,
      "outputs": [
        {
          "output_type": "display_data",
          "data": {
            "text/plain": [
              "<Figure size 432x288 with 1 Axes>"
            ],
            "image/png": "[encoded data removed]"
          },
          "metadata": {
            "needs_background": "light"
          }
        }
      ]
    },
    {
      "cell_type": "code",
      "source": [
        "gamma_a_est, gamma_loc_est, gamma_scale_est = gamma.fit(gamma_data)\n",
        "gamma_a_est, gamma_loc_est, gamma_scale_est"
      ],
      "metadata": {
        "colab": {
          "base_uri": "https://localhost:8080/"
        },
        "id": "u6gd1iSZ4ZHl",
        "outputId": "5c3107af-2fc9-4020-c885-5e68f69936cc"
      },
      "execution_count": 317,
      "outputs": [
        {
          "output_type": "execute_result",
          "data": {
            "text/plain": [
              "(5.195362381129441, -0.17251380487802548, 1.9614109420945045)"
            ]
          },
          "metadata": {},
          "execution_count": 317
        }
      ]
    },
    {
      "cell_type": "code",
      "source": [
        "gamma_x = [i for i in range(gamma_range)]\n",
        "gamma_y = gamma.pdf(gamma_x, a=gamma_a_est, \n",
        "                    loc=gamma_loc_est, \n",
        "                    scale=gamma_scale_est)\n",
        "plot_random_variables(gamma_data, 'Gamma Distribution', \n",
        "                      est_data=[gamma_x, gamma_y], stat='probability', \n",
        "                      bins=gamma_range, kde=True)"
      ],
      "metadata": {
        "colab": {
          "base_uri": "https://localhost:8080/",
          "height": 279
        },
        "id": "TkRCnmSU4g-6",
        "outputId": "04beb21e-0d96-41c5-915a-3ffa830bf1ba"
      },
      "execution_count": 318,
      "outputs": [
        {
          "output_type": "display_data",
          "data": {
            "text/plain": [
              "<Figure size 432x288 with 1 Axes>"
            ],
            "image/png": "[encoded data removed]"
          },
          "metadata": {
            "needs_background": "light"
          }
        }
      ]
    },
    {
      "cell_type": "code",
      "source": [
        "gamma.interval(alpha=0.95, a=gamma_a_est,\n",
        "               loc=gamma_loc_est,\n",
        "               scale=gamma_scale_est)"
      ],
      "metadata": {
        "colab": {
          "base_uri": "https://localhost:8080/"
        },
        "id": "zipd6uDJ7TEB",
        "outputId": "72cd316d-633a-4b52-dc80-cb2855880b77"
      },
      "execution_count": 319,
      "outputs": [
        {
          "output_type": "execute_result",
          "data": {
            "text/plain": [
              "(3.2273395982296735, 20.468591498932252)"
            ]
          },
          "metadata": {},
          "execution_count": 319
        }
      ]
    },
    {
      "cell_type": "markdown",
      "source": [
        "# hypothesis tests"
      ],
      "metadata": {
        "id": "cOWz1h6QIarL"
      }
    },
    {
      "cell_type": "code",
      "source": [
        "def test_results(result, statement):\n",
        "    stat = result[0]\n",
        "    p_val = result[1]\n",
        "    print('stat=%.3f, p=%.3f' % (stat, p_val))\n",
        "    if p_val > 0.05:\n",
        "        print('Probably ', statement)\n",
        "    else:\n",
        "        if statement.find('not') == -1:\n",
        "            print('Probably not ', statement)\n",
        "        else:\n",
        "            print('Probably ', statement.split(' ')[1])\n",
        "    print('--------------------------')"
      ],
      "metadata": {
        "id": "Z4Tcs2Dn-j9v"
      },
      "execution_count": 414,
      "outputs": []
    },
    {
      "cell_type": "markdown",
      "source": [
        "## Normality Tests"
      ],
      "metadata": {
        "id": "w0iQuNmq9vEz"
      }
    },
    {
      "cell_type": "markdown",
      "source": [
        "* H0: the sample has a Gaussian distribution.\n",
        "* H1: the sample does not have a Gaussian distribution."
      ],
      "metadata": {
        "id": "TmGI6NVG-QZF"
      }
    },
    {
      "cell_type": "code",
      "source": [
        "normality_stat = 'Gaussian'"
      ],
      "metadata": {
        "id": "4xSAUZbP-2J6"
      },
      "execution_count": 321,
      "outputs": []
    },
    {
      "cell_type": "markdown",
      "source": [
        "### Shapiro-Wilk Test"
      ],
      "metadata": {
        "id": "Pvke3rf_9zFz"
      }
    },
    {
      "cell_type": "markdown",
      "source": [
        "\n",
        "\n",
        "> for small sample size (n <50), Shapiro–Wilk test should be used as it has more power to detect the nonnormality and this is the most popular and widely used method.\n",
        "\n"
      ],
      "metadata": {
        "id": "gQjKtV2hL2M0"
      }
    },
    {
      "cell_type": "code",
      "source": [
        "test_results(stats.shapiro(normal_data[:20]), normality_stat)\n",
        "test_results(stats.shapiro(exp_data[:20]), normality_stat)"
      ],
      "metadata": {
        "colab": {
          "base_uri": "https://localhost:8080/"
        },
        "id": "BYu5rYno-Xm8",
        "outputId": "ac01de94-bfd1-4e5f-aef8-ec2b1fa8b7b3"
      },
      "execution_count": 434,
      "outputs": [
        {
          "output_type": "stream",
          "name": "stdout",
          "text": [
            "stat=0.919, p=0.097\n",
            "Probably  Gaussian\n",
            "--------------------------\n",
            "stat=0.886, p=0.022\n",
            "Probably not  Gaussian\n",
            "--------------------------\n"
          ]
        }
      ]
    },
    {
      "cell_type": "markdown",
      "source": [
        "### D’Agostino’s K^2 Test"
      ],
      "metadata": {
        "id": "VrTHXlYH91mP"
      }
    },
    {
      "cell_type": "markdown",
      "source": [
        "\n",
        "\n",
        "\n",
        "> It first computes the skewness and kurtosis to quantify how far the distribution is from Gaussian in terms of asymmetry and shape. \n",
        "\n",
        "> It then calculates how far each of these values differs from the value expected with a Gaussian distribution, and computes a single P value from the sum of these discrepancies. \n",
        "\n",
        "> It is a versatile and powerful normality test, and is recommended\n",
        "\n",
        "\n",
        "\n"
      ],
      "metadata": {
        "id": "8af5ayyfMSUv"
      }
    },
    {
      "cell_type": "code",
      "source": [
        "test_results(stats.normaltest(normal_data_seed), normality_stat)\n",
        "test_results(stats.normaltest(exp_data), normality_stat)"
      ],
      "metadata": {
        "colab": {
          "base_uri": "https://localhost:8080/"
        },
        "id": "ZMlG56C7_mHL",
        "outputId": "33ae2aeb-8fea-4421-8fc6-b527cb0b7db1"
      },
      "execution_count": 435,
      "outputs": [
        {
          "output_type": "stream",
          "name": "stdout",
          "text": [
            "stat=0.399, p=0.819\n",
            "Probably  Gaussian\n",
            "--------------------------\n",
            "stat=355.938, p=0.000\n",
            "Probably not  Gaussian\n",
            "--------------------------\n"
          ]
        }
      ]
    },
    {
      "cell_type": "markdown",
      "source": [
        "### Anderson-Darling Test"
      ],
      "metadata": {
        "id": "X6yK0i4Y946v"
      }
    },
    {
      "cell_type": "markdown",
      "source": [
        ">  to test if a sample of data came from a population with a specific distribution."
      ],
      "metadata": {
        "id": "Xj-gI12VM2am"
      }
    },
    {
      "cell_type": "code",
      "source": [
        "# ad_result = stats.anderson(normal_data)\n",
        "# ad_result.statistic, ad_result.critical_values, ad_result.significance_level\n",
        "\n",
        "ad_result = stats.anderson(normal_data)\n",
        "ad_result.statistic, ad_result.critical_values, ad_result.significance_level"
      ],
      "metadata": {
        "colab": {
          "base_uri": "https://localhost:8080/"
        },
        "id": "ns0cN0sU_3Yp",
        "outputId": "f3fc9f3a-62ce-4460-8582-b6f60703c19d"
      },
      "execution_count": 436,
      "outputs": [
        {
          "output_type": "execute_result",
          "data": {
            "text/plain": [
              "(0.615834532694862,\n",
              " array([0.576, 0.656, 0.787, 0.918, 1.092]),\n",
              " array([15. , 10. ,  5. ,  2.5,  1. ]))"
            ]
          },
          "metadata": {},
          "execution_count": 436
        }
      ]
    },
    {
      "cell_type": "markdown",
      "source": [
        "## Correlation Tests"
      ],
      "metadata": {
        "id": "GSh9xK6K99bk"
      }
    },
    {
      "cell_type": "markdown",
      "source": [
        "* H0: the two samples are independent.\n",
        "* H1: there is a dependency between the samples."
      ],
      "metadata": {
        "id": "ZGKSbwmpBSaZ"
      }
    },
    {
      "cell_type": "code",
      "source": [
        "corr_statement = 'independent'\n",
        "norm_data_plus = normal_data + 1\n",
        "\n",
        "norm_data_rdm = normal_data.copy()\n",
        "for i in range(len(normal_data)):\n",
        "    if not np.random.randint(2):\n",
        "        norm_data_rdm[i] = norm_data_rdm[i] + np.random.randint(10)\n",
        "    else:\n",
        "        norm_data_rdm[i] = norm_data_rdm[i] - np.random.randint(20)"
      ],
      "metadata": {
        "id": "BqGmSZ37BX-H"
      },
      "execution_count": 360,
      "outputs": []
    },
    {
      "cell_type": "code",
      "source": [
        "rdm_data = np.random.randn(10000)\n",
        "rdm_data[:10]"
      ],
      "metadata": {
        "colab": {
          "base_uri": "https://localhost:8080/"
        },
        "id": "VZMSFoHrDu0x",
        "outputId": "e5c62c59-379f-4987-bf8b-f65e5b440eaf"
      },
      "execution_count": 368,
      "outputs": [
        {
          "output_type": "execute_result",
          "data": {
            "text/plain": [
              "array([ 1.46210794, -2.06014071, -0.3224172 , -0.38405435,  1.13376944,\n",
              "       -1.09989127, -0.17242821, -0.87785842,  0.04221375,  0.58281521])"
            ]
          },
          "metadata": {},
          "execution_count": 368
        }
      ]
    },
    {
      "cell_type": "markdown",
      "source": [
        "### Pearson’s Correlation Coefficient"
      ],
      "metadata": {
        "id": "gccnSdpH-BW1"
      }
    },
    {
      "cell_type": "markdown",
      "source": [
        "> used in the context of a linear relationship between 2 continuous variables and expressed as Pearson product-moment correlation. \n",
        "\n",
        "> The Pearson correlation coefficient is typically used for jointly normally distributed data (data that follow a bivariate normal distribution).\n",
        "\n",
        "> Pearson is most appropriate for measurements taken from an interval scale"
      ],
      "metadata": {
        "id": "5K20zKJ5NPQ7"
      }
    },
    {
      "cell_type": "code",
      "source": [
        "test_results(stats.pearsonr(normal_data, uni_data), corr_statement)\n",
        "\n",
        "test_results(stats.pearsonr(normal_data, norm_data_plus), corr_statement)\n",
        "\n",
        "test_results(stats.pearsonr(normal_data, norm_data_rdm), corr_statement)\n",
        "\n",
        "test_results(stats.pearsonr(normal_data, rdm_data), corr_statement)"
      ],
      "metadata": {
        "colab": {
          "base_uri": "https://localhost:8080/"
        },
        "id": "Pudb7tUABIdk",
        "outputId": "624e2d7a-efa5-4853-88b7-76e655b0f807"
      },
      "execution_count": 376,
      "outputs": [
        {
          "output_type": "stream",
          "name": "stdout",
          "text": [
            "stat=0.009, p=0.348\n",
            "Probably  independent\n",
            "--------------------------\n",
            "stat=1.000, p=0.000\n",
            "Probably not  independent\n",
            "--------------------------\n",
            "stat=0.124, p=0.000\n",
            "Probably not  independent\n",
            "--------------------------\n",
            "stat=-0.002, p=0.820\n",
            "Probably  independent\n",
            "--------------------------\n"
          ]
        }
      ]
    },
    {
      "cell_type": "markdown",
      "source": [
        "### Spearman’s Rank Correlation"
      ],
      "metadata": {
        "id": "A3pQDUva-CQ6"
      }
    },
    {
      "cell_type": "markdown",
      "source": [
        "> the Spearman is more appropriate for measurements taken from ordinal scales.\n",
        "\n",
        "> This is also the best alternative to Spearman correlation (non-parametric) when your sample size is small and has many tied ranks."
      ],
      "metadata": {
        "id": "WByY2RW-Nszd"
      }
    },
    {
      "cell_type": "code",
      "source": [
        "test_results(stats.spearmanr(normal_data, uni_data), corr_statement)\n",
        "test_results(stats.spearmanr(normal_data, norm_data_plus), corr_statement)\n",
        "test_results(stats.spearmanr(normal_data, norm_data_rdm), corr_statement)\n",
        "test_results(stats.spearmanr(normal_data, rdm_data), corr_statement)"
      ],
      "metadata": {
        "colab": {
          "base_uri": "https://localhost:8080/"
        },
        "id": "y5LNYw0_Bx6D",
        "outputId": "50687013-1b90-4b1d-d294-ded5d8d9c6cb"
      },
      "execution_count": 377,
      "outputs": [
        {
          "output_type": "stream",
          "name": "stdout",
          "text": [
            "stat=0.010, p=0.330\n",
            "Probably  independent\n",
            "--------------------------\n",
            "stat=1.000, p=0.000\n",
            "Probably not  independent\n",
            "--------------------------\n",
            "stat=0.131, p=0.000\n",
            "Probably not  independent\n",
            "--------------------------\n",
            "stat=0.001, p=0.940\n",
            "Probably  independent\n",
            "--------------------------\n"
          ]
        }
      ]
    },
    {
      "cell_type": "markdown",
      "source": [
        "### Kendall’s Rank Correlation"
      ],
      "metadata": {
        "id": "qyjBIkFz-Fl7"
      }
    },
    {
      "cell_type": "markdown",
      "source": [
        "> Kendall rank correlation (non-parametric) is an alternative to Pearson's correlation (parametric) when the data you're working with has failed one or more assumptions of the test. \n"
      ],
      "metadata": {
        "id": "KqSSzbldN8ud"
      }
    },
    {
      "cell_type": "code",
      "source": [
        "test_results(stats.kendalltau(normal_data, uni_data), corr_statement)\n",
        "test_results(stats.kendalltau(normal_data, norm_data_plus), corr_statement)\n",
        "test_results(stats.kendalltau(normal_data, norm_data_rdm), corr_statement)\n",
        "test_results(stats.kendalltau(normal_data, rdm_data), corr_statement)"
      ],
      "metadata": {
        "colab": {
          "base_uri": "https://localhost:8080/"
        },
        "id": "cIFAyD3pDdov",
        "outputId": "8b51dc67-0395-4718-8b70-84ca7bc8fe48"
      },
      "execution_count": 378,
      "outputs": [
        {
          "output_type": "stream",
          "name": "stdout",
          "text": [
            "stat=0.006, p=0.332\n",
            "Probably  independent\n",
            "--------------------------\n",
            "stat=1.000, p=0.000\n",
            "Probably not  independent\n",
            "--------------------------\n",
            "stat=0.092, p=0.000\n",
            "Probably not  independent\n",
            "--------------------------\n",
            "stat=0.000, p=0.947\n",
            "Probably  independent\n",
            "--------------------------\n"
          ]
        }
      ]
    },
    {
      "cell_type": "markdown",
      "source": [
        "### Chi-Squared Test"
      ],
      "metadata": {
        "id": "0nA4pZ7P-Jbf"
      }
    },
    {
      "cell_type": "markdown",
      "source": [
        "> help us better understand and interpret the relationship between our two categorical variables\n",
        "\n",
        "> First, Chi-Square only tests whether two individual variables are independent in a binary, “yes” or “no” format.\n",
        "\n",
        "> Chi-Square requires researchers to use numerical values, also known as frequency counts, instead of using percentages or ratios. "
      ],
      "metadata": {
        "id": "FXrWqcf5OLAQ"
      }
    },
    {
      "cell_type": "code",
      "source": [
        "test_results(stats.chi2_contingency([100, 100], [20, 20]), corr_statement)\n",
        "test_results(stats.chi2_contingency(bern_data[:10] + 1, bin_data[:10]), corr_statement)\n",
        "test_results(stats.chi2_contingency(pois_data[:10] + 1, pois_data[:10] + 5), corr_statement)"
      ],
      "metadata": {
        "colab": {
          "base_uri": "https://localhost:8080/"
        },
        "id": "kGD-YKwE9uB1",
        "outputId": "072fe1db-8493-4722-83af-20b6822d65db"
      },
      "execution_count": 450,
      "outputs": [
        {
          "output_type": "stream",
          "name": "stdout",
          "text": [
            "stat=0.000, p=1.000\n",
            "Probably  independent\n",
            "--------------------------\n",
            "stat=0.000, p=1.000\n",
            "Probably  independent\n",
            "--------------------------\n",
            "stat=0.000, p=1.000\n",
            "Probably  independent\n",
            "--------------------------\n"
          ]
        }
      ]
    },
    {
      "cell_type": "markdown",
      "source": [
        "## Stationary Tests"
      ],
      "metadata": {
        "id": "qhGOsOpHFyrM"
      }
    },
    {
      "cell_type": "markdown",
      "source": [
        "* H0: a unit root is present (series is non-stationary).\n",
        "* H1: a unit root is not present (series is stationary)."
      ],
      "metadata": {
        "id": "mKZaUbSdGS4I"
      }
    },
    {
      "cell_type": "code",
      "source": [
        "stationary_state = 'not stationary'"
      ],
      "metadata": {
        "id": "kmXI2K5YGzdP"
      },
      "execution_count": 393,
      "outputs": []
    },
    {
      "cell_type": "markdown",
      "source": [
        "### Augmented Dickey-Fuller Unit Root Test"
      ],
      "metadata": {
        "id": "nc876gmxGDcY"
      }
    },
    {
      "cell_type": "code",
      "source": [
        "from statsmodels.tsa.stattools import adfuller\n",
        "# Tests whether a time series has a unit root, e.g. has a trend or more generally is autoregressive."
      ],
      "metadata": {
        "id": "2uxMgWI5GQ-g"
      },
      "execution_count": 407,
      "outputs": []
    },
    {
      "cell_type": "code",
      "source": [
        "test_results(adfuller(normal_data), stationary_state)\n",
        "test_results(adfuller(exp_data), stationary_state)\n",
        "test_results(adfuller(bin_data), stationary_state)\n",
        "test_results(adfuller(bern_data), stationary_state)\n",
        "test_results(adfuller(uni_data), stationary_state)"
      ],
      "metadata": {
        "colab": {
          "base_uri": "https://localhost:8080/"
        },
        "id": "lteJLrO5Hl1G",
        "outputId": "54d5c868-870e-40d2-b469-250a29a0b311"
      },
      "execution_count": 406,
      "outputs": [
        {
          "output_type": "stream",
          "name": "stdout",
          "text": [
            "stat=-44.765, p=0.000\n",
            "Probably  stationary\n",
            "--------------------------\n",
            "stat=-31.145, p=0.000\n",
            "Probably  stationary\n",
            "--------------------------\n",
            "stat=-27.485, p=0.000\n",
            "Probably  stationary\n",
            "--------------------------\n",
            "stat=-100.391, p=0.000\n",
            "Probably  stationary\n",
            "--------------------------\n",
            "stat=-100.008, p=0.000\n",
            "Probably  stationary\n",
            "--------------------------\n"
          ]
        }
      ]
    },
    {
      "cell_type": "markdown",
      "source": [
        "### Kwiatkowski-Phillips-Schmidt-Shin"
      ],
      "metadata": {
        "id": "bVtSoQ-fGKqn"
      }
    },
    {
      "cell_type": "code",
      "source": [
        "from statsmodels.tsa.stattools import kpss\n",
        "\n",
        "# Tests whether a time series is trend stationary or not."
      ],
      "metadata": {
        "id": "0i1Z8shtHpEv"
      },
      "execution_count": 401,
      "outputs": []
    },
    {
      "cell_type": "code",
      "source": [
        "test_results(kpss(normal_data, lags='auto'), stationary_state)\n",
        "test_results(kpss(uni_data, lags='auto'), stationary_state)\n",
        "\n",
        "test_results(kpss([1, 2, 3, 4, 5], lags='auto'), stationary_state)"
      ],
      "metadata": {
        "colab": {
          "base_uri": "https://localhost:8080/"
        },
        "id": "mrvvtBa-Htm6",
        "outputId": "07061c23-27e1-495b-a5d0-f6f0ac87b722"
      },
      "execution_count": 405,
      "outputs": [
        {
          "output_type": "stream",
          "name": "stdout",
          "text": [
            "stat=0.091, p=0.100\n",
            "Probably  not stationary\n",
            "--------------------------\n",
            "stat=0.215, p=0.100\n",
            "Probably  not stationary\n",
            "--------------------------\n",
            "stat=0.371, p=0.089\n",
            "Probably  not stationary\n",
            "--------------------------\n"
          ]
        },
        {
          "output_type": "stream",
          "name": "stderr",
          "text": [
            "/usr/local/lib/python3.7/dist-packages/statsmodels/tsa/stattools.py:1711: InterpolationWarning: p-value is greater than the indicated p-value\n",
            "  warn(\"p-value is greater than the indicated p-value\", InterpolationWarning)\n",
            "/usr/local/lib/python3.7/dist-packages/statsmodels/tsa/stattools.py:1711: InterpolationWarning: p-value is greater than the indicated p-value\n",
            "  warn(\"p-value is greater than the indicated p-value\", InterpolationWarning)\n"
          ]
        }
      ]
    },
    {
      "cell_type": "markdown",
      "source": [
        "## Parametric Statistical Hypothesis Tests"
      ],
      "metadata": {
        "id": "h6cQjFG4F1q2"
      }
    },
    {
      "cell_type": "markdown",
      "source": [
        "* H0: the means of the samples are equal.\n",
        "* H1: the means of the samples are unequal."
      ],
      "metadata": {
        "id": "diTcRlASIgjc"
      }
    },
    {
      "cell_type": "code",
      "source": [
        "param_statement = 'same distribution'"
      ],
      "metadata": {
        "id": "8h08jfVmIf9u"
      },
      "execution_count": 408,
      "outputs": []
    },
    {
      "cell_type": "markdown",
      "source": [
        "### Student’s t-test"
      ],
      "metadata": {
        "id": "251180BWIqhN"
      }
    },
    {
      "cell_type": "markdown",
      "source": [
        "> The t-test is used to compare two means (averages) in order to find out whether they are different, and if so, how significant the difference is.\n",
        "\n",
        "> Like a z-test, a t-test also assumes a normal distribution of the sample"
      ],
      "metadata": {
        "id": "1rl1pPKiPxno"
      }
    },
    {
      "cell_type": "code",
      "source": [
        "test_results(stats.ttest_ind(normal_data, normal_data_seed), param_statement)\n",
        "test_results(stats.ttest_ind(normal_data, norm_data_rdm), param_statement)\n",
        "test_results(stats.ttest_ind(normal_data, rdm_data), param_statement)\n",
        "test_results(stats.ttest_ind(normal_data, gamma_data), param_statement)"
      ],
      "metadata": {
        "colab": {
          "base_uri": "https://localhost:8080/"
        },
        "id": "VjzYiIVTIpWn",
        "outputId": "8468a7a8-12dd-4af6-9fe0-130a860af487"
      },
      "execution_count": 422,
      "outputs": [
        {
          "output_type": "stream",
          "name": "stdout",
          "text": [
            "stat=-0.769, p=0.442\n",
            "Probably  same distribution\n",
            "--------------------------\n",
            "stat=29.036, p=0.000\n",
            "Probably not  same distribution\n",
            "--------------------------\n",
            "stat=-0.794, p=0.427\n",
            "Probably  same distribution\n",
            "--------------------------\n",
            "stat=-218.406, p=0.000\n",
            "Probably not  same distribution\n",
            "--------------------------\n"
          ]
        }
      ]
    },
    {
      "cell_type": "markdown",
      "source": [
        "### Paired Student’s t-test"
      ],
      "metadata": {
        "id": "_Scv1TJ3ItW-"
      }
    },
    {
      "cell_type": "markdown",
      "source": [
        "> Choose the paired t-test if you have two measurements on the same item, person or thing. \n",
        "> But you should also choose this test if you have two items that are being measured with a unique condition."
      ],
      "metadata": {
        "id": "s_6VBdHdQK9Q"
      }
    },
    {
      "cell_type": "code",
      "source": [
        "test_results(stats.ttest_rel(normal_data, normal_data_seed), param_statement)\n",
        "test_results(stats.ttest_rel(normal_data, norm_data_rdm), param_statement)\n",
        "test_results(stats.ttest_rel(normal_data, rdm_data), param_statement)\n",
        "test_results(stats.ttest_rel(normal_data, gamma_data), param_statement)"
      ],
      "metadata": {
        "colab": {
          "base_uri": "https://localhost:8080/"
        },
        "id": "5R3E7g4UJ8LU",
        "outputId": "702a9a4d-5f04-49d3-b1a4-a488f3b23f89"
      },
      "execution_count": 421,
      "outputs": [
        {
          "output_type": "stream",
          "name": "stdout",
          "text": [
            "stat=-0.773, p=0.440\n",
            "Probably  same distribution\n",
            "--------------------------\n",
            "stat=29.463, p=0.000\n",
            "Probably not  same distribution\n",
            "--------------------------\n",
            "stat=-0.793, p=0.428\n",
            "Probably  same distribution\n",
            "--------------------------\n",
            "stat=-218.135, p=0.000\n",
            "Probably not  same distribution\n",
            "--------------------------\n"
          ]
        }
      ]
    },
    {
      "cell_type": "markdown",
      "source": [
        "### Analysis of Variance Test (ANOVA)"
      ],
      "metadata": {
        "id": "qO1Cd4HVIwVc"
      }
    },
    {
      "cell_type": "markdown",
      "source": [
        "> You might use Analysis of Variance (ANOVA) as a marketer when you want to test a particular hypothesis. \n",
        "\n",
        "> You would use ANOVA to help you understand how your different groups respond, with a null hypothesis for the test that the means of the different groups are equal."
      ],
      "metadata": {
        "id": "NGARQmFUQdea"
      }
    },
    {
      "cell_type": "code",
      "source": [
        "test_results(stats.f_oneway(normal_data, normal_data_seed, rdm_data), param_statement)\n",
        "test_results(stats.f_oneway(normal_data, uni_data, rdm_data), param_statement)"
      ],
      "metadata": {
        "colab": {
          "base_uri": "https://localhost:8080/"
        },
        "id": "MCPsmoPaKRjl",
        "outputId": "8715b37e-8e89-4e06-9410-b2e6d7c90a80"
      },
      "execution_count": 425,
      "outputs": [
        {
          "output_type": "stream",
          "name": "stdout",
          "text": [
            "stat=0.406, p=0.667\n",
            "Probably  same distribution\n",
            "--------------------------\n",
            "stat=115404.368, p=0.000\n",
            "Probably not  same distribution\n",
            "--------------------------\n"
          ]
        }
      ]
    },
    {
      "cell_type": "markdown",
      "source": [
        "### Repeated Measures ANOVA Test"
      ],
      "metadata": {
        "id": "8VoDKtYxI0Eb"
      }
    },
    {
      "cell_type": "markdown",
      "source": [
        "## Nonparametric Statistical Hypothesis Tests\n"
      ],
      "metadata": {
        "id": "5QMD3DV8JBAx"
      }
    },
    {
      "cell_type": "markdown",
      "source": [
        "* H0: the distributions of both samples are equal.\n",
        "* H1: the distributions of both samples are not equal."
      ],
      "metadata": {
        "id": "9e77jaCAKwna"
      }
    },
    {
      "cell_type": "code",
      "source": [
        "nonparam_state = 'equal distribution'"
      ],
      "metadata": {
        "id": "So95fVpUKpdH"
      },
      "execution_count": 426,
      "outputs": []
    },
    {
      "cell_type": "markdown",
      "source": [
        "### Mann-Whitney U Test"
      ],
      "metadata": {
        "id": "MdaZOXC-JGP7"
      }
    },
    {
      "cell_type": "markdown",
      "source": [
        "> You want to know if two groups are different on your variable of interest.\n",
        "\n",
        "> Your variable of interest is continuous.\n",
        "\n",
        "> You have two and only two groups.\n",
        "\n",
        "> You have a skewed variable of interest."
      ],
      "metadata": {
        "id": "-T_s_qU2QtsL"
      }
    },
    {
      "cell_type": "code",
      "source": [
        "test_results(stats.mannwhitneyu(normal_data, rdm_data), nonparam_state)\n",
        "test_results(stats.mannwhitneyu(normal_data, normal_data_seed), nonparam_state)\n",
        "test_results(stats.mannwhitneyu(normal_data, gamma_data), nonparam_state)\n",
        "test_results(stats.mannwhitneyu(normal_data, norm_data_rdm), nonparam_state)"
      ],
      "metadata": {
        "colab": {
          "base_uri": "https://localhost:8080/"
        },
        "id": "EnQoBP0fK0iB",
        "outputId": "74591bdf-95aa-43e1-82ae-1d96f52346b4"
      },
      "execution_count": 429,
      "outputs": [
        {
          "output_type": "stream",
          "name": "stdout",
          "text": [
            "stat=49696176.000, p=0.228\n",
            "Probably  equal distribution\n",
            "--------------------------\n",
            "stat=49650640.000, p=0.196\n",
            "Probably  equal distribution\n",
            "--------------------------\n",
            "stat=41121.000, p=0.000\n",
            "Probably not  equal distribution\n",
            "--------------------------\n",
            "stat=47730496.500, p=0.000\n",
            "Probably not  equal distribution\n",
            "--------------------------\n"
          ]
        }
      ]
    },
    {
      "cell_type": "markdown",
      "source": [
        "### Wilcoxon Signed-Rank Test"
      ],
      "metadata": {
        "id": "7_4hWgKKJJDG"
      }
    },
    {
      "cell_type": "markdown",
      "source": [
        ">  It does not require any assumptions about the shape of the distribution.\n",
        "\n",
        "> Wilcoxon signed-rank test is used to compare two related samples, matched samples, \n",
        "\n",
        "> or to conduct a paired difference test of repeated measurements on a single sample to assess whether their population mean ranks differ."
      ],
      "metadata": {
        "id": "CgowX0xWRNgn"
      }
    },
    {
      "cell_type": "code",
      "source": [
        "test_results(stats.wilcoxon(normal_data, rdm_data), nonparam_state)\n",
        "test_results(stats.wilcoxon(normal_data, normal_data_seed), nonparam_state)\n",
        "test_results(stats.wilcoxon(normal_data, gamma_data), nonparam_state)\n",
        "test_results(stats.wilcoxon(normal_data, norm_data_rdm), nonparam_state)"
      ],
      "metadata": {
        "colab": {
          "base_uri": "https://localhost:8080/"
        },
        "id": "YGklNkwkLIV5",
        "outputId": "20c67bdf-90dc-4ef4-8e25-dbd2bb8c7a25"
      },
      "execution_count": 430,
      "outputs": [
        {
          "output_type": "stream",
          "name": "stdout",
          "text": [
            "stat=24807067.000, p=0.498\n",
            "Probably  equal distribution\n",
            "--------------------------\n",
            "stat=24813285.000, p=0.512\n",
            "Probably  equal distribution\n",
            "--------------------------\n",
            "stat=15.000, p=0.000\n",
            "Probably not  equal distribution\n",
            "--------------------------\n",
            "stat=15244612.000, p=0.000\n",
            "Probably not  equal distribution\n",
            "--------------------------\n"
          ]
        }
      ]
    },
    {
      "cell_type": "markdown",
      "source": [
        "### Kruskal-Wallis H Test"
      ],
      "metadata": {
        "id": "rF5wxBDIJM_V"
      }
    },
    {
      "cell_type": "markdown",
      "source": [
        ">  two or more groups of an independent variable on a continuous or ordinal dependent variable"
      ],
      "metadata": {
        "id": "0UbgDyrNRh-Q"
      }
    },
    {
      "cell_type": "code",
      "source": [
        "test_results(stats.kruskal(normal_data, rdm_data, normal_data_seed), nonparam_state)\n",
        "test_results(stats.kruskal(normal_data, normal_data_seed), nonparam_state)\n",
        "test_results(stats.kruskal(normal_data, gamma_data), nonparam_state)\n",
        "test_results(stats.kruskal(normal_data, norm_data_rdm), nonparam_state)"
      ],
      "metadata": {
        "colab": {
          "base_uri": "https://localhost:8080/"
        },
        "id": "F35SG5hWLPR2",
        "outputId": "ffc631ab-8917-40fc-ee68-9819d7962d2e"
      },
      "execution_count": 451,
      "outputs": [
        {
          "output_type": "stream",
          "name": "stdout",
          "text": [
            "stat=0.868, p=0.648\n",
            "Probably  equal distribution\n",
            "--------------------------\n",
            "stat=0.732, p=0.392\n",
            "Probably  equal distribution\n",
            "--------------------------\n",
            "stat=14974.589, p=0.000\n",
            "Probably not  equal distribution\n",
            "--------------------------\n",
            "stat=30.902, p=0.000\n",
            "Probably not  equal distribution\n",
            "--------------------------\n"
          ]
        }
      ]
    },
    {
      "cell_type": "markdown",
      "source": [
        "### Friedman Test"
      ],
      "metadata": {
        "id": "Q9BslSIgJPf2"
      }
    },
    {
      "cell_type": "markdown",
      "source": [
        "> used to determine if 3 or more measurements from the same group of subjects are significantly different from each other on a skewed variable of interest."
      ],
      "metadata": {
        "id": "qPWMUn8gRqsk"
      }
    },
    {
      "cell_type": "code",
      "source": [
        "test_results(stats.friedmanchisquare(normal_data, rdm_data, normal_data_seed), nonparam_state)\n",
        "test_results(stats.friedmanchisquare(normal_data, normal_data_seed, gamma_data), nonparam_state)\n",
        "test_results(stats.friedmanchisquare(normal_data, gamma_data, norm_data_rdm), nonparam_state)"
      ],
      "metadata": {
        "colab": {
          "base_uri": "https://localhost:8080/"
        },
        "id": "FfAyfzysLWGF",
        "outputId": "3866a044-077e-4698-b1c6-165c17f1cfbe"
      },
      "execution_count": 433,
      "outputs": [
        {
          "output_type": "stream",
          "name": "stdout",
          "text": [
            "stat=0.135, p=0.935\n",
            "Probably  equal distribution\n",
            "--------------------------\n",
            "stat=14961.034, p=0.000\n",
            "Probably not  equal distribution\n",
            "--------------------------\n",
            "stat=13214.634, p=0.000\n",
            "Probably not  equal distribution\n",
            "--------------------------\n"
          ]
        }
      ]
    }
  ]
}